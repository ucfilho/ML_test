{
  "nbformat": 4,
  "nbformat_minor": 0,
  "metadata": {
    "kernelspec": {
      "display_name": "Python 3",
      "language": "python",
      "name": "python3"
    },
    "language_info": {
      "codemirror_mode": {
        "name": "ipython",
        "version": 3
      },
      "file_extension": ".py",
      "mimetype": "text/x-python",
      "name": "python",
      "nbconvert_exporter": "python",
      "pygments_lexer": "ipython3",
      "version": "3.6.8"
    },
    "colab": {
      "name": "plot_tree_measuring_performance.ipynb",
      "provenance": [],
      "collapsed_sections": [],
      "include_colab_link": true
    }
  },
  "cells": [
    {
      "cell_type": "markdown",
      "metadata": {
        "id": "view-in-github",
        "colab_type": "text"
      },
      "source": [
        "<a href=\"https://colab.research.google.com/github/ucfilho/ML_test/blob/master/plot_tree_measuring_performance.ipynb\" target=\"_parent\"><img src=\"https://colab.research.google.com/assets/colab-badge.svg\" alt=\"Open In Colab\"/></a>"
      ]
    },
    {
      "cell_type": "code",
      "metadata": {
        "id": "zOjsjQg16ThS",
        "colab_type": "code",
        "colab": {}
      },
      "source": [
        "%matplotlib inline"
      ],
      "execution_count": 0,
      "outputs": []
    },
    {
      "cell_type": "code",
      "metadata": {
        "id": "M5REOH2P6dQl",
        "colab_type": "code",
        "colab": {}
      },
      "source": [
        "# https://scipy-lectures.org/packages/scikit-learn/auto_examples/plot_measuring_performance.html#sphx-glr-packages-scikit-learn-auto-examples-plot-measuring-performance-py"
      ],
      "execution_count": 0,
      "outputs": []
    },
    {
      "cell_type": "markdown",
      "metadata": {
        "id": "imxpmf3s6Thc",
        "colab_type": "text"
      },
      "source": [
        "\n",
        "Measuring Decision Tree performance\n",
        "====================================\n",
        "\n",
        "Demonstrates overfit when testing on train set.\n",
        "\n"
      ]
    },
    {
      "cell_type": "markdown",
      "metadata": {
        "id": "2aGmo0lN6The",
        "colab_type": "text"
      },
      "source": [
        "Get the data\n",
        "\n"
      ]
    },
    {
      "cell_type": "code",
      "metadata": {
        "id": "9ahrfabj6Thf",
        "colab_type": "code",
        "colab": {}
      },
      "source": [
        "from sklearn.datasets import load_boston\n",
        "data = load_boston()"
      ],
      "execution_count": 0,
      "outputs": []
    },
    {
      "cell_type": "markdown",
      "metadata": {
        "id": "LHI59vCy6Thk",
        "colab_type": "text"
      },
      "source": [
        "Train and test a model\n",
        "\n"
      ]
    },
    {
      "cell_type": "code",
      "metadata": {
        "id": "7GxuEGmt6Thl",
        "colab_type": "code",
        "colab": {}
      },
      "source": [
        "from sklearn.tree import DecisionTreeRegressor\n",
        "clf = DecisionTreeRegressor().fit(data.data, data.target)\n",
        "\n",
        "predicted = clf.predict(data.data)\n",
        "expected = data.target"
      ],
      "execution_count": 0,
      "outputs": []
    },
    {
      "cell_type": "markdown",
      "metadata": {
        "id": "W-kQuh3I6Tho",
        "colab_type": "text"
      },
      "source": [
        "Plot predicted as a function of expected\n",
        "\n"
      ]
    },
    {
      "cell_type": "code",
      "metadata": {
        "id": "ia9xI86Z6Thp",
        "colab_type": "code",
        "colab": {
          "base_uri": "https://localhost:8080/",
          "height": 225
        },
        "outputId": "9dafe244-449e-4221-df3f-d24cc7fc746a"
      },
      "source": [
        "from matplotlib import pyplot as plt\n",
        "plt.figure(figsize=(4, 3))\n",
        "plt.scatter(expected, predicted)\n",
        "plt.plot([0, 50], [0, 50], '--k')\n",
        "plt.axis('tight')\n",
        "plt.xlabel('True price ($1000s)')\n",
        "plt.ylabel('Predicted price ($1000s)')\n",
        "plt.tight_layout()"
      ],
      "execution_count": 5,
      "outputs": [
        {
          "output_type": "display_data",
          "data": {
            "image/png": "[encoded data removed]",
            "text/plain": [
              "<Figure size 288x216 with 1 Axes>"
            ]
          },
          "metadata": {
            "tags": []
          }
        }
      ]
    },
    {
      "cell_type": "markdown",
      "metadata": {
        "id": "iycvPEpN6Tht",
        "colab_type": "text"
      },
      "source": [
        "Pretty much no errors!\n",
        "\n",
        "This is too good to be true: we are testing the model on the train\n",
        "data, which is not a mesure of generalization.\n",
        "\n",
        "**The results are not valid**\n",
        "\n"
      ]
    }
  ]
}